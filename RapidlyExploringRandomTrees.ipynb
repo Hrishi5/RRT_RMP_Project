{
  "nbformat": 4,
  "nbformat_minor": 0,
  "metadata": {
    "colab": {
      "name": "RapidlyExploringRandomTrees.ipynb",
      "version": "0.3.2",
      "provenance": [],
      "collapsed_sections": []
    },
    "kernelspec": {
      "name": "python3",
      "display_name": "Python 3"
    }
  },
  "cells": [
    {
      "cell_type": "markdown",
      "metadata": {
        "id": "view-in-github",
        "colab_type": "text"
      },
      "source": [
        "[View in Colaboratory](https://colab.research.google.com/github/Hrishi5/RRT_RMP_Project/blob/master/RapidlyExploringRandomTrees.ipynb)"
      ]
    },
    {
      "metadata": {
        "id": "YZJ84ZKVddDc",
        "colab_type": "text"
      },
      "cell_type": "markdown",
      "source": [
        "## **Rapidly Exploring Random Trees - Hrishikesh Deshpande**"
      ]
    },
    {
      "metadata": {
        "id": "4hPNkLQfdqqd",
        "colab_type": "text"
      },
      "cell_type": "markdown",
      "source": [
        ""
      ]
    },
    {
      "metadata": {
        "id": "_5Y9vG-UdlD6",
        "colab_type": "text"
      },
      "cell_type": "markdown",
      "source": [
        ""
      ]
    },
    {
      "metadata": {
        "id": "FIyfeahwZiJe",
        "colab_type": "code",
        "colab": {}
      },
      "cell_type": "code",
      "source": [
        "import numpy as np\n",
        "import matplotlib.pyplot as plt\n",
        "from matplotlib.collections import PolyCollection\n",
        "import matplotlib as mpl"
      ],
      "execution_count": 0,
      "outputs": []
    },
    {
      "metadata": {
        "id": "EoKyY2q4a3HN",
        "colab_type": "code",
        "colab": {}
      },
      "cell_type": "code",
      "source": [
        "class TreeNode():\n",
        "    \n",
        "    def __init__(self,data,parent=None):\n",
        "        self.parent = parent\n",
        "        self.data = data ;\n",
        "        self.child = [] ;\n",
        "        \n",
        "    def addChild(self,treeNode):\n",
        "        self.child.append(treeNode)\n",
        "    \n",
        "    def removeLastChild(self):\n",
        "        return self.child.pop() ;\n",
        "    \n",
        "    def removeChildByIndex(self,index):\n",
        "        return self.child.pop(len(self.child)-1-index)"
      ],
      "execution_count": 0,
      "outputs": []
    },
    {
      "metadata": {
        "id": "mySY17u-a6pF",
        "colab_type": "code",
        "colab": {}
      },
      "cell_type": "code",
      "source": [
        "shape_dict_str = {'1':'square','2':'rectangle','3':'triangle'}\n",
        "shape_dict = {1:'square',2:'rectangle',3:'triangle'}\n",
        "vert_dict = {'0':'A','1':'B','2':'C','3':'D'}\n",
        "class obstacle():\n",
        "    \n",
        "    def __init__(self,t,x,y,theta,w,h):\n",
        "        self.typ = t\n",
        "        self.xa = x\n",
        "        self.ya = y\n",
        "        self.w = w\n",
        "        self.h = h\n",
        "        self.theta = (theta * np.pi)/180\n",
        "        self.thetad = theta\n",
        "        self.shape = shape_dict[t]\n",
        "        self.vertices = []\n",
        "        self.vertices.append((self.xa,self.ya))\n",
        "        self.vert_x = []\n",
        "        self.vert_y=[]\n",
        "        self.get_vertices()\n",
        "    \n",
        "    def __str__(self):\n",
        "        return self.shape + ' ' + str(self.vertices)\n",
        "    \n",
        "    def sign(self,va, vb, vc):\n",
        "        return (va[0] - vc[0]) * (vb[1] - vc[1]) - (vb[0] - vc[0]) * (va[1] - vc[1])\n",
        "    \n",
        "    def collidesWith(self,p):\n",
        "        if self.typ == 3:\n",
        "            b1 = self.sign(p, (self.xa,self.ya), (self.xb,self.yb)) < 0.0\n",
        "            b2 = self.sign(p, (self.xb,self.yb), (self.xc,self.yc)) < 0.0\n",
        "            b3 = self.sign(p, (self.xc,self.yc), (self.xa,self.ya)) < 0.0\n",
        "            return ((b1 == b2) and (b2 == b3))\n",
        "        else:\n",
        "            obs_path = mpl.path.Path([[self.xa,self.ya],[self.xb,self.yb],[self.xc,self.yc],[self.xd,self.yd]])\n",
        "            isInside = obs_path.contains_points([[p[0],p[1]]])\n",
        "            return isInside[0] \n",
        "        \n",
        "    def get_vertices(self):\n",
        "        if self.typ !='3':\n",
        "            self.xb = self.xa + self.w*np.cos(self.theta)\n",
        "            self.yb = self.ya + self.w*np.sin(self.theta)\n",
        "            self.vertices.append((self.xb,self.yb))\n",
        "            self.xd = self.xa - self.h*np.sin(self.theta)\n",
        "            self.yd = self.ya + self.h*np.cos(self.theta)\n",
        "            self.xc = self.xd + self.w*np.cos(self.theta)\n",
        "            self.yc = self.yd + self.w*np.sin(self.theta)\n",
        "            self.vertices.append((self.xc,self.yc))\n",
        "            self.vertices.append((self.xd,self.yd))\n",
        "            self.vert_y.append(self.ya)\n",
        "            self.vert_y.append(self.yb)\n",
        "            self.vert_y.append(self.yc)\n",
        "            self.vert_y.append(self.yd)\n",
        "            self.vert_x.append(self.xa)\n",
        "            self.vert_x.append(self.xb)\n",
        "            self.vert_x.append(self.xc)\n",
        "            self.vert_x.append(self.xd)\n",
        "        else:\n",
        "            self.h = self.w * np.sin(np.pi/3)\n",
        "            alpha = self.thetad + 60\n",
        "            alpha = (alpha*np.pi)/180\n",
        "            self.xb = self.xa + self.w * np.cos(self.theta)\n",
        "            self.yb = self.ya + self.w * np.cos(self.theta)\n",
        "            self.vertices.append((self.xb,self.yb))\n",
        "            self.xc = self.xa + self.w * np.cos(alpha)\n",
        "            self.yc = self.xa + self.w * np.sin(alpha)\n",
        "            self.vertices.append((self.xc,self.yc))\n",
        "            self.vert_y.append(self.ya)\n",
        "            self.vert_y.append(self.yb)\n",
        "            self.vert_y.append(self.yc)\n",
        "            self.vert_x.append(self.xa)\n",
        "            self.vert_x.append(self.xb)\n",
        "            self.vert_x.append(self.xc)\n",
        "        \n",
        "    \n",
        "        \n",
        "            \n",
        "        \n",
        "        \n",
        "        "
      ],
      "execution_count": 0,
      "outputs": []
    },
    {
      "metadata": {
        "id": "MVX8mUpEbMy0",
        "colab_type": "code",
        "colab": {}
      },
      "cell_type": "code",
      "source": [
        "class configuration():\n",
        "    def __init__(self,xi,yi,thetai,pvel,pphi,dist,index,pindex,xp=None,yp=None):\n",
        "        self.x = xi;\n",
        "        self.y = yi;\n",
        "        self.theta = thetai;\n",
        "        self.x_parent = xp;\n",
        "        self.y_parent = yp;\n",
        "        self.theta_parent = thetai;\n",
        "        self.parent_velocity = pvel; #This is the velocity at the parent node required to reach current node in the tree\n",
        "        self.parent_steering_angle = pphi; #This is the steering angle at the parent node required to reach current node in the tree. \n",
        "        self.distance = dist;\n",
        "        self.index = index; \n",
        "        self.parent_index = pindex;\n",
        "        "
      ],
      "execution_count": 0,
      "outputs": []
    },
    {
      "metadata": {
        "id": "MxpN9dKnbSjf",
        "colab_type": "code",
        "colab": {}
      },
      "cell_type": "code",
      "source": [
        "def generate_random_number(ll,ul):\n",
        "    return int(np.round(np.random.uniform(ll,ul,1)[0]))\n",
        "\n",
        "\n",
        "def generateRandomWorkspace(size_x,size_y):\n",
        "    n_obstacles = generate_random_number(0,10)\n",
        "    print(n_obstacles)\n",
        "    obstacles = []\n",
        "    w = 10 ;\n",
        "    h = 5\n",
        "    \n",
        "    for i in range(n_obstacles):\n",
        "        t = generate_random_number(1,3)\n",
        "        x = generate_random_number(0,size_x)\n",
        "        y=generate_random_number(0,size_y)\n",
        "        theta = generate_random_number(0,90)\n",
        "        obstacles.append(obstacle(t,x,y,theta,w,h))\n",
        "    return obstacles\n",
        "\n",
        "def plotWorkspace(obstacles):\n",
        "    for i in obstacles:\n",
        "        plt.subplot(2,1,2)\n",
        "        plt.plot(i.vert_x,i.vert_y)\n",
        "    plt.show()"
      ],
      "execution_count": 0,
      "outputs": []
    },
    {
      "metadata": {
        "id": "KRoSn6hobYNh",
        "colab_type": "code",
        "colab": {}
      },
      "cell_type": "code",
      "source": [
        "def generateRandomStartGoalPoints(max_vert,min_vert):\n",
        "    start = [np.random.uniform(-1,1,1),np.random.uniform(min_vert,max_vert,1)]\n",
        "    goal = [np.random.uniform(min_vert,max_vert,1),np.random.uniform(min_vert,max_vert,1)]\n",
        "    print(start,goal)\n",
        "    plt.scatter(start[0],start[1],c='red')\n",
        "    plt.scatter(goal[0],goal[1],c='green')\n",
        "    #plt.scatter(verts[0][0][0],verts[0][0][1],c='yellow')\n",
        "    plt.show()\n",
        "    return start,goal \n",
        "  "
      ],
      "execution_count": 0,
      "outputs": []
    },
    {
      "metadata": {
        "id": "vvAuIn6VbbdV",
        "colab_type": "code",
        "colab": {
          "base_uri": "https://localhost:8080/",
          "height": 52
        },
        "outputId": "933fe277-db49-438e-c966-e68cda211389"
      },
      "cell_type": "code",
      "source": [
        "\n",
        "size_x = int(input('Input the width of the workspace(atleast 200)')) ;\n",
        "size_y = int(input('Input height of workspace(atleast 200)'))\n",
        "if size_x < 200:\n",
        "    size_x = 200\n",
        "if size_y < 200:\n",
        "    size_y = 200\n"
      ],
      "execution_count": 8,
      "outputs": [
        {
          "output_type": "stream",
          "text": [
            "Input the width of the workspace(atleast 200)600\n",
            "Input height of workspace(atleast 200)600\n"
          ],
          "name": "stdout"
        }
      ]
    },
    {
      "metadata": {
        "id": "1zxJqbqUbfaC",
        "colab_type": "code",
        "colab": {
          "base_uri": "https://localhost:8080/",
          "height": 52
        },
        "outputId": "2b001d29-95ca-4069-d31d-f9a46a84102d"
      },
      "cell_type": "code",
      "source": [
        "rand_workspace = input('Do you want to randomly generate workspace ? (Y/N)')\n",
        "if rand_workspace == 'Y' or rand_workspace == 'y':\n",
        "    obstacles = generateRandomWorkspace(size_x,size_y)\n",
        "else:\n",
        "    n_obstacles = input('please enter the number of obstacles(r for random number)')\n",
        "    if n_obstacles == 'r' or n_obstacles =='R':\n",
        "        n_obstcles = np.random.uniform(5,20,1)[0]\n",
        "    print('Input the type of obstacle')\n",
        "    print('1.Square\\n2.Rectangle\\n3.Triangle\\n4.Random')\n",
        "    obstacles = []\n",
        "    for i in range(n_obstacles):\n",
        "        t = int(input('Enter type of obstacle ' + (i+1)))\n",
        "        if t==4:\n",
        "            t = np.random.uniform(1,3,1)[0]\n",
        "        cx = float(input('input x coordinate') )\n",
        "        cy = float(input('input y coordinate'))\n",
        "        ctheta = float(input('input orientation of obstacle'))\n",
        "    \n",
        "    \n"
      ],
      "execution_count": 9,
      "outputs": [
        {
          "output_type": "stream",
          "text": [
            "Do you want to randomly generate workspace ? (Y/N)Y\n",
            "6\n"
          ],
          "name": "stdout"
        }
      ]
    },
    {
      "metadata": {
        "id": "Z50ze-q6bggW",
        "colab_type": "code",
        "colab": {}
      },
      "cell_type": "code",
      "source": [
        "def getRandomConfiguration(x_max,x_min,y_max,y_min):\n",
        "    xr = round(generate_random_number(ll=x_min,ul=x_max))\n",
        "    yr = round(generate_random_number(ll=y_min,ul=y_max));\n",
        "    theta_rand = generate_random_number(2*np.pi,np.pi/6)\n",
        "    return xr,yr,theta_rand ;"
      ],
      "execution_count": 0,
      "outputs": []
    },
    {
      "metadata": {
        "id": "z18jzDgRboz6",
        "colab_type": "code",
        "colab": {}
      },
      "cell_type": "code",
      "source": [
        "def getEuclideanDistance(x1,y1,x2,y2):\n",
        "    d2 = np.square(x2-x1) + np.square(y2-y1)\n",
        "    return np.sqrt(d2)\n",
        "    "
      ],
      "execution_count": 0,
      "outputs": []
    },
    {
      "metadata": {
        "id": "qBYUZqBGbrpT",
        "colab_type": "code",
        "colab": {}
      },
      "cell_type": "code",
      "source": [
        "def getEuclideanDistanceWithAngle(x1,y1,x2,y2,t1,t2):\n",
        "    pi = np.pi\n",
        "    d2 = np.square(x2-x1) + np.square(y2-y1) + min([(t1 - t2)**2, (t1 - t2 - pi)**2, (t1-t2 + pi)**2])\n",
        "    return np.sqrt(d2)\n",
        "     "
      ],
      "execution_count": 0,
      "outputs": []
    },
    {
      "metadata": {
        "id": "UNXGMb7cbtZ8",
        "colab_type": "code",
        "colab": {}
      },
      "cell_type": "code",
      "source": [
        "def detect_collision(x,y,obstacles):\n",
        "    p = (x,y)\n",
        "    for o in obstacles:\n",
        "        if o.collidesWith(p):\n",
        "            return True\n",
        "    return False\n",
        "            \n",
        "    "
      ],
      "execution_count": 0,
      "outputs": []
    },
    {
      "metadata": {
        "id": "0c79JUwMbwlZ",
        "colab_type": "code",
        "colab": {}
      },
      "cell_type": "code",
      "source": [
        "def validateTheta(theta_new):\n",
        "    pi = np.pi\n",
        "    if theta_new < 0 :\n",
        "            theta_new = 2*pi - abs(theta_new);\n",
        "    if theta_new > 2*pi :\n",
        "            while theta_new > 2*pi :\n",
        "                theta_new = theta_new - 2*pi\n",
        "    return theta_new"
      ],
      "execution_count": 0,
      "outputs": []
    },
    {
      "metadata": {
        "id": "vUa45zk0byGP",
        "colab_type": "code",
        "colab": {}
      },
      "cell_type": "code",
      "source": [
        "from matplotlib import patches\n",
        "def plot_obstacles(obstacles):\n",
        "    print(obstacles)\n",
        "    for o in obstacles:\n",
        "        if o.typ != 3:\n",
        "            t = plt.Rectangle(xy=[o.xa,o.ya],width=o.w,height=o.h)\n",
        "        else:\n",
        "            t = plt.Polygon([[o.xa,o.ya],[o.xb,o.yb],[o.xc,o.yc]])\n",
        "        plt.gca().add_patch(t)"
      ],
      "execution_count": 0,
      "outputs": []
    },
    {
      "metadata": {
        "id": "1OmqfFSbb29f",
        "colab_type": "code",
        "colab": {}
      },
      "cell_type": "code",
      "source": [
        "start_x = 10\n",
        "start_y = 10\n",
        "goal_x = 20\n",
        "goal_y = 20\n",
        "start_theta = 0.001\n",
        "root = TreeNode((start_x,start_y))\n",
        "root.data = configuration(xi=start_x,yi=start_y,thetai=start_theta,pvel=0,pphi=0,index=0,pindex=0,dist=0)\n"
      ],
      "execution_count": 0,
      "outputs": []
    },
    {
      "metadata": {
        "id": "nL1OJ01Zc9TE",
        "colab_type": "code",
        "colab": {}
      },
      "cell_type": "code",
      "source": [
        "car_length = 3\n",
        "steering_angle = 20*np.pi/180 #degrees\n",
        "v = 3\n",
        "start_x = 100\n",
        "start_y = 100\n",
        "start_theta = 0;\n",
        "goal_x = 500\n",
        "goal_y = 400\n",
        "goal_theta = 90*np.pi/180;\n",
        "dt = 0.1"
      ],
      "execution_count": 0,
      "outputs": []
    },
    {
      "metadata": {
        "id": "tk7He-6Cb5x7",
        "colab_type": "code",
        "colab": {
          "base_uri": "https://localhost:8080/",
          "height": 384
        },
        "outputId": "c8e7a910-4851-4f1f-984d-7337d80547cb"
      },
      "cell_type": "code",
      "source": [
        "tree=[root]\n",
        "distances = []\n",
        "step_size = 5\n",
        "v = 10\n",
        "l=1\n",
        "plot_obstacles(obstacles)\n",
        "for step in range(7):\n",
        "            current_min_dist = 0\n",
        "            parent_index = 0\n",
        "            path=[]\n",
        "\n",
        "            new_node_array = []\n",
        "            collision = True\n",
        "            while collision:\n",
        "                xr,yr,tr = getRandomConfiguration(size_x,0,size_y,0)\n",
        "                collision = detect_collision(xr,yr,obstacles)\n",
        "            \n",
        "            dt = 1\n",
        "            x,y,t = tree[0].data.x , tree[0].data.y , tree[0].data.theta\n",
        "            current_min_dist = getEuclideanDistanceWithAngle(x,y,xr,yr,t,tr)\n",
        "            for i in range(len(tree)):\n",
        "                x,y,t = tree[i].data.x , tree[i].data.y , tree[i].data.theta\n",
        "                d = getEuclideanDistanceWithAngle(x,y,xr,yr,t,tr)\n",
        "                if current_min_dist > d:\n",
        "                    current_min_dist = d\n",
        "                    parent_index = i\n",
        "                xn,yn,tn = tree[parent_index].data.x , tree[parent_index].data.y,tree[parent_index].data.theta\n",
        "                cphi = -steering_angle\n",
        "                cvel = -v\n",
        "                path = []\n",
        "                path.append((xn,yn,tn))\n",
        "                calc_path = True\n",
        "                while cvel <= v:\n",
        "                #for cvel in [-v, -v/2 , -v/4 , -v/8 , v/8 , v/4 , v/2 , v]:\n",
        "                    while cphi<= steering_angle:\n",
        "                    #for cphi in [steering_angle-np.pi/2 , steering_angle - np.pi/4, steering_angle - np.pi/6 , steering_angle - np.pi/8 , steering_angle]:\n",
        "                        for j in range(1,10):\n",
        "                            path.append(())\n",
        "                            xj = path[j-1][0] + cvel * np.cos(path[j-1][2])*dt\n",
        "                            yj = path[j-1][1] + cvel*np.sin(path[j-1][2])*dt\n",
        "                            tj = path[j-1][2] + (cvel/car_length)*np.tan(cphi)*dt\n",
        "                            path[j] = (xj,yj,tj)\n",
        "                        \n",
        "                        \n",
        "                        new_dist = getEuclideanDistanceWithAngle(path[j][0],path[j][1],xr,yr,path[j][2],tr)\n",
        "                        new_node_array.append([new_dist, cvel, cphi, path[j][0], path[j][1], path[j][2]])\n",
        "                        cphi+=0.05\n",
        "                    if cvel + 5 > -30 and cvel + 5 < 30:\n",
        "                        cvel = 30;\n",
        "                    else:\n",
        "                        cvel+=5\n",
        "                    \n",
        "                    cphi = -steering_angle\n",
        "                    new_node_array_t = np.array(new_node_array)\n",
        "                    current_min_dist_i = np.argmin(new_node_array_t[:,0])\n",
        "                    cmin =new_node_array_t[current_min_dist_i,0]\n",
        "                    xnew,ynew,tnew = new_node_array[current_min_dist_i][3],new_node_array[current_min_dist_i][4],new_node_array[current_min_dist_i][5]\n",
        "                    tnew = validateTheta(tnew)\n",
        "                    npvel = new_node_array[current_min_dist_i][1]\n",
        "                    npsteeringangle = new_node_array[current_min_dist_i][2]\n",
        "                    dnew = configuration(xi = xnew , yi = ynew , thetai=tnew,pvel=npvel,pphi=npsteeringangle,dist=cmin,index=step,pindex=parent_index)\n",
        "                    dnew.x_parent = xn\n",
        "                    dnew.y_parent = yn\n",
        "                    node = TreeNode(data=dnew)\n",
        "                    tree.append(node)\n",
        "\n",
        "                   \n",
        "                    path = []\n",
        "                    path.append((xn,yn,tn))\n",
        "                    for k in range(1,step_size):\n",
        "                        path.append(())\n",
        "                        xk = path[k-1][0] + npvel * np.cos(path[k-1][2])*dt\n",
        "                        yk = path[k-1][1] + npvel*np.sin(path[k-1][2])*dt\n",
        "                        tk = path[k-1][2] + (npvel/car_length)*np.tan(npsteeringangle)*dt\n",
        "                        path[k] = (xk,yk,tk)\n",
        "                        \n",
        "                        \n",
        "                        \n",
        "\n",
        "                    plt.scatter(path[k][0], path[k][1], s=0.5,c='b');\n",
        "                    lines = []\n",
        "                    for s in range (1,len(path)):\n",
        "                            #lines.append([(path[s][0],path[s][1]),(path[s-1][0],path[s-1][1])])\n",
        "                            plt.plot([path[s][0],path[s-1][0]],[path[s][1],path[s-1][1]],c='black')\n",
        "                    #lc = mpl.collections.LineCollection(lines)\n",
        "                    #fig,ax = plt.subplots()\n",
        "                    #ax.add_collection(lc)\n",
        "                    #ax.autoscale()\n",
        "                    distance_threshold = 30\n",
        "                    orientation_threshold = 10*np.pi/180\n",
        "                    distance_to_goal = getEuclideanDistance(xnew,ynew,goal_x,goal_y) \n",
        "                    if distance_to_goal <= distance_threshold and ( abs(tnew - goal_theta)<=orientation_threshold or abs(tnew - goal_theta - np.pi) <=orientation_threshold):\n",
        "                        print('Final Configuration Near the Goal Configuration is:')\n",
        "                        x_coordinate = xnew\n",
        "                        y_coordinate = ynew\n",
        "                        orientation_in_degrees = tnew*180/np.pi\n",
        "                        break\n",
        "\n",
        "                    index = len(tree)-1;\n",
        "                    parent_index = tree[index].data.parent_index;\n",
        "\n",
        "                    if getEuclideanDistance(tree[index].data.x,tree[index].data.y,goal_x,goal_y) <= distance_threshold:\n",
        "                        while parent_index != 0:\n",
        "                            path = [tree[index].data.x_parent, tree[index].data.y_parent, tree[index].data.theta_parent ];\n",
        "                            parent_vel_new = tree[index].data.parent_velocity\n",
        "                            parent_steering_angle_new = tree[index].data.parent_steering_angle\n",
        "\n",
        "                        for l in range(1,step_size):\n",
        "                            path.append(())\n",
        "                            xl = path[l-1][0] + parent_vel_new*np.cos(path[l-1][3])*dt;\n",
        "                            yl = path[l-1][1] + parent_vel_new*np.sin(path[l-1][3])*dt;\n",
        "                            tl = path[l-1][2] + (parent_vel_new/L)*np.tan(parent_steering_angle_new)*dt;\n",
        "                            path[l] = (xl,yl,tl)\n",
        "                        for j in range(1,len(path)):\n",
        "                            #pygame.line(screen,white,(path[j][0], path[j-1][0]), (path[j][1], path[j-1][1]))\n",
        "                            index = parent_index;\n",
        "                            parent_index = tree[index].data.parent_index;\n",
        "                   "
      ],
      "execution_count": 23,
      "outputs": [
        {
          "output_type": "stream",
          "text": [
            "[<__main__.obstacle object at 0x7fa0d27e4e10>, <__main__.obstacle object at 0x7fa0d27e41d0>, <__main__.obstacle object at 0x7fa0d27e4eb8>, <__main__.obstacle object at 0x7fa0d27e44a8>, <__main__.obstacle object at 0x7fa0d27e4630>, <__main__.obstacle object at 0x7fa0d27e4240>]\n"
          ],
          "name": "stdout"
        },
        {
          "output_type": "display_data",
          "data": {
            "image/png": "[encoded data removed]",
            "text/plain": [
              "<matplotlib.figure.Figure at 0x7fa0d05a9c50>"
            ]
          },
          "metadata": {
            "tags": []
          }
        }
      ]
    },
    {
      "metadata": {
        "id": "9ZjXSrYyb_x0",
        "colab_type": "code",
        "colab": {}
      },
      "cell_type": "code",
      "source": [
        "plt.show()"
      ],
      "execution_count": 0,
      "outputs": []
    }
  ]
}